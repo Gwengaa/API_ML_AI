{
 "cells": [
  {
   "cell_type": "code",
   "execution_count": 5,
   "metadata": {
    "collapsed": false
   },
   "outputs": [],
   "source": [
    "from aip import AipSpeech\n",
    "\n",
    "\"\"\" 你的 APPID AK SK \"\"\"\n",
    "APP_ID = '15299396'\n",
    "API_KEY = 'kl7TWgqhKNzd0annEAFURPW9'\n",
    "SECRET_KEY = 'AGpHhXb7WwiAfLNsqEsuxGUYxjshcdU5'\n",
    "\n",
    "client = AipSpeech(APP_ID, API_KEY, SECRET_KEY)"
   ]
  },
  {
   "cell_type": "code",
   "execution_count": 10,
   "metadata": {
    "collapsed": false
   },
   "outputs": [],
   "source": [
    "result  = client.synthesis('\"白蟾，茜草科,栀子属，白蟾是栀子花的变种，它的植株稍微高一些，最高能长到2米，叶子是革质的，形状是卵形的。开花时花朵只在指套的顶端或者是叶腋处，花朵比较大，香气非常浓。花大而重瓣、美丽，栽培作观赏。主要分布于陕西省, 江苏省, 安徽省, 上海市, 浙江省。属于常绿灌木，是栀子的变种。株高1～2米，茎灰色，小枝绿色。单叶对生或3叶轮生，叶片革质，稀纸质，全缘，倒卵形或矩圆状倒卵形。花单生于枝顶或叶腋，花大，重瓣，白色具浓香。花期3～7月，果期5月至第二年2月', 'zh', 1, {'vol': 5,})\n",
    "\n",
    "# 识别正确返回语音二进制 错误则返回dict 参照下面错误码\n",
    "if not isinstance(result, dict):\n",
    "    with open('auido.mp3', 'wb') as f:\n",
    "        f.write(result)"
   ]
  },
  {
   "cell_type": "code",
   "execution_count": null,
   "metadata": {
    "collapsed": true
   },
   "outputs": [],
   "source": []
  },
  {
   "cell_type": "code",
   "execution_count": null,
   "metadata": {
    "collapsed": true
   },
   "outputs": [],
   "source": []
  }
 ],
 "metadata": {
  "kernelspec": {
   "display_name": "Python 3",
   "language": "python",
   "name": "python3"
  },
  "language_info": {
   "codemirror_mode": {
    "name": "ipython",
    "version": 3
   },
   "file_extension": ".py",
   "mimetype": "text/x-python",
   "name": "python",
   "nbconvert_exporter": "python",
   "pygments_lexer": "ipython3",
   "version": "3.6.0"
  }
 },
 "nbformat": 4,
 "nbformat_minor": 2
}
