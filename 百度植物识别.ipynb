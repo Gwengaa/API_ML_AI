{
 "cells": [
  {
   "cell_type": "code",
   "execution_count": 8,
   "metadata": {
    "collapsed": false
   },
   "outputs": [],
   "source": [
    "from aip import AipImageClassify\n",
    "\n",
    "\"\"\" 你的 APPID AK SK \"\"\"\n",
    "APP_ID = ''\n",
    "API_KEY = ''\n",
    "SECRET_KEY = ''\n",
    "\n",
    "client = AipImageClassify(APP_ID, API_KEY, SECRET_KEY)"
   ]
  },
  {
   "cell_type": "code",
   "execution_count": 10,
   "metadata": {
    "collapsed": false
   },
   "outputs": [
    {
     "data": {
      "text/plain": [
       "{'log_id': 3941182582526461385,\n",
       " 'result': [{'name': '栀子花', 'score': 0.85335808992386},\n",
       "  {'name': '栀子', 'score': 0.13845419883728},\n",
       "  {'name': '玫瑰', 'score': 0.028224037960172},\n",
       "  {'name': '午时花', 'score': 0.0087824519723654},\n",
       "  {'name': '晚香玉', 'score': 0.0071784807369113}]}"
      ]
     },
     "execution_count": 10,
     "metadata": {},
     "output_type": "execute_result"
    }
   ],
   "source": [
    "\"\"\" 读取图片 \"\"\"\n",
    "def get_file_content(filePath):\n",
    "    with open(filePath, 'rb') as fp:\n",
    "        return fp.read()\n",
    "\n",
    "image = get_file_content('E:/Users/诗雅/Desktop/栀子花.jpg')\n",
    "\n",
    "\"\"\" 调用植物识别 \"\"\"\n",
    "client.plantDetect(image)"
   ]
  },
  {
   "cell_type": "code",
   "execution_count": 21,
   "metadata": {
    "collapsed": false,
    "scrolled": false
   },
   "outputs": [],
   "source": [
    "# -*- coding: utf-8 -*-\n",
    "\n",
    "# 【注意】这只是一个使用requests请求库的极简示例代码，\n",
    "# 缺少各种异常的完善处理以及和具体业务连接的逻辑，\n",
    "# 程序内的各种超时时间，要根据自己产品的网络环境和具体情况做判断和调整。\n",
    "#\n",
    "# 阿里云市场\n",
    "# 智能植物识别（含花卉与杂草） API的购买网址：\n",
    "# https: // market.aliyun.com / products / 57124001 / cmapi018620.html  # sku=yuncode1262000000\n",
    "\n",
    "import base64\n",
    "import requests\n",
    "\n",
    "url_host = \"http://plantgw.nongbangzhu.cn\"\n",
    "\n",
    "# 购买后可得到AppCode，查看方法是在阿里云市场进入买家中心的管理控制台，\n",
    "# 在已购买的服务列表内，找到\n",
    "# 智能植物识别（含花卉与杂草），下方AppCode一行即是\n",
    "# 相关截图请查看doc目录下的截图文件\n",
    "app_code = '' #这里替换为你购买的AppCode"
   ]
  },
  {
   "cell_type": "code",
   "execution_count": 20,
   "metadata": {
    "collapsed": true
   },
   "outputs": [],
   "source": [
    "# 植物花卉识别接口_v2的请求示例\n",
    "def recognize2(uu):\n",
    "    url_path = '/plant/recognize2'\n",
    "\n",
    "    with open(uu, \"rb\") as image_file:\n",
    "        img_base64 = base64.b64encode(image_file.read()).decode('ascii')\n",
    "        body = {'img_base64': img_base64}\n",
    "\n",
    "        headers = {'content-type': \"application/x-www-form-urlencoded\", 'authorization': \"APPCODE \" + app_code}\n",
    "        response = requests.request(\"POST\", url_host+url_path, data=body, headers=headers) # 默认utf-8\n",
    "        \n",
    "\n",
    "    return print(response.text)\n",
    "# 植物百科信息获取\n",
    "def info(gg):\n",
    "    url_path = '/plant/info'\n",
    "\n",
    "    code = gg # 这个植物代号是调用recognize2()时获得的InfoCode字段\n",
    "    body = {'code': code}\n",
    "    headers = {'content-type': \"application/x-www-form-urlencoded\", 'authorization': \"APPCODE \" + app_code}\n",
    "    response = requests.request(\"POST\", url_host+url_path, data=body, headers=headers) # 默认utf-8\n",
    "    ff=response.text\n",
    "\n",
    "    return print(ff)\n",
    "\n",
    "\n",
    "# 常见杂草识别\n",
    "def weed(tt):\n",
    "    url_path = '/plant/recognize_weed'\n",
    "\n",
    "    with open(tt, \"rb\") as image_file:\n",
    "        img_base64 = base64.b64encode(image_file.read()).decode('ascii')\n",
    "        body = {'img_base64': img_base64}\n",
    "\n",
    "        headers = {'content-type': \"application/x-www-form-urlencoded\", 'authorization': \"APPCODE \" + app_code}\n",
    "        response = requests.request(\"POST\", url_host+url_path, data=body, headers=headers) # 默认utf-8\n",
    "       \n",
    "\n",
    "    return print(response.text)"
   ]
  },
  {
   "cell_type": "code",
   "execution_count": 25,
   "metadata": {
    "collapsed": false
   },
   "outputs": [
    {
     "name": "stdout",
     "output_type": "stream",
     "text": [
      "{\"Status\":0,\"Message\":\"OK\",\"Result\":[{\"Score\":\"94.15\",\"AliasList\":[],\"Genus\":\"栀子属\",\"InfoCode\":\"C7xyzlpiBemFnEOn\",\"AliasName\":\"\",\"Family\":\"茜草科\",\"ImageUrl\":\"https://api.aiplants.cn/resource/1001/%E7%99%BD%E8%9F%BE/06b0ebff2095508bd740133331a6344b9a5f1cb17ba31be518e9cbd9a0e4fcfe.jpeg\",\"LatinName\":\"Gardenia jasminoides var. fortuniana\",\"Name\":\"白蟾\"},{\"Score\":\"5.56\",\"AliasList\":[],\"Genus\":\"栀子属\",\"InfoCode\":\"LGNB47n3JpvE2zAS\",\"AliasName\":\"\",\"Family\":\"茜草科\",\"ImageUrl\":\"https://api.aiplants.cn/resource/1001/%E6%A0%80%E5%AD%90/b88d308454bcdc8f4b974c19c4c45b01af5f516c5134d9f054affb92d610982f.jpeg\",\"LatinName\":\"Gardenia jasminoides\",\"Name\":\"栀子\"},{\"Score\":\"0.06\",\"AliasList\":[\"茉莉\"],\"Genus\":\"茉莉属\",\"InfoCode\":\"crsjXX95OUU6Fljb\",\"AliasName\":\"茉莉\",\"Family\":\"木犀科\",\"ImageUrl\":\"https://api.aiplants.cn/resource/1001/%E8%8C%89%E8%8E%89%E8%8A%B1/36d504a05d6b484ccd165a56aeab16f11681d15f2482d7f5ecb2615d77ad097b.jpeg\",\"LatinName\":\"Jasminum sambac\",\"Name\":\"茉莉花\"},{\"Score\":\"0.03\",\"AliasList\":[\"白狗牙\",\"狮子花\",\"豆腐花\"],\"Genus\":\"狗牙花属\",\"InfoCode\":\"GBQhDiIAK8cRPMEJ\",\"AliasName\":\"白狗牙、狮子花、豆腐花\",\"Family\":\"夹竹桃科\",\"ImageUrl\":\"https://api.aiplants.cn/resource/1001/%E7%8B%97%E7%89%99%E8%8A%B1/5573b0f0e390298aa0703f3505ea8612eff1e66efd0b7eb6165cd2afd482629d.jpeg\",\"LatinName\":\"Tabernaemontana divaricata\",\"Name\":\"狗牙花\"},{\"Score\":\"0.02\",\"AliasList\":[\"炮弹果\",\"刹抢龙\"],\"Genus\":\"清明花属\",\"InfoCode\":\"zrO1MMe6p0gw0KRL\",\"AliasName\":\"炮弹果、刹抢龙\",\"Family\":\"夹竹桃科\",\"ImageUrl\":\"https://api.aiplants.cn/resource/1001/%E6%B8%85%E6%98%8E%E8%8A%B1/8c2b9c565b62d11c0c19d29b2cba1c792f94b1f503bdeef3121ec81b5b234c28.jpeg\",\"LatinName\":\"Beaumontia grandiflora\",\"Name\":\"清明花\"}]}\n"
     ]
    },
    {
     "data": {
      "text/plain": [
       "True"
      ]
     },
     "execution_count": 25,
     "metadata": {},
     "output_type": "execute_result"
    }
   ],
   "source": [
    "recognize2('E:/Users/诗雅/Desktop/栀子花.jpg')"
   ]
  },
  {
   "cell_type": "code",
   "execution_count": 19,
   "metadata": {
    "collapsed": false
   },
   "outputs": [
    {
     "name": "stdout",
     "output_type": "stream",
     "text": [
      "{\"status\":0,\"message\":\"OK\",\"result\":{\"nameStd\":\"白蟾\",\"nameLt\":\"Gardenia jasminoides var. fortuniana\",\"familyCn\":\"茜草科\",\"genusCn\":\"栀子属\",\"alias\":\"\",\"description\":\"白蟾是栀子花的变种，它的植株稍微高一些，最高能长到2米，叶子是革质的，形状是卵形的。开花时花朵只在指套的顶端或者是叶腋处，花朵比较大，香气非常浓。\",\"info\":{\"xgsc\":\"\",\"jzgy\":\"花大而重瓣、美丽，栽培作观赏。\",\"hyyy\":\"\",\"fbdq\":\"分布于陕西省, 江苏省, 安徽省, 上海市, 浙江省, 江西省, 福建省, 台湾省, 湖北省, 湖南省, 海南省, 广东省, 广西自治区, 四川省, 贵州省, 云南省。\\n\",\"mcll\":\"\",\"yhjs\":\"\",\"bxtz\":\"常绿灌木，是栀子的变种。株高1～2米，茎灰色，小枝绿色。单叶对生或3叶轮生，叶片革质，稀纸质，全缘，倒卵形或矩圆状倒卵形。花单生于枝顶或叶腋，花大，重瓣，白色具浓香。\",\"hksj\":\"花期3～7月，果期5月至第二年2月\"},\"images\":[\"https://api.aiplants.cn/resource/1001/白蟾/17dbcc84c295962c49071863a42c104b4732bfe2994859dbd414404e13353116.jpeg\",\"https://api.aiplants.cn/resource/1001/白蟾/716c727ad2c6e914f235ef75622b3e448cab4744a1e330d5e3b757506bfb9d9a.jpeg\",\"https://api.aiplants.cn/resource/1001/白蟾/06b0ebff2095508bd740133331a6344b9a5f1cb17ba31be518e9cbd9a0e4fcfe.jpeg\",\"https://api.aiplants.cn/resource/1001/白蟾/5d2cd181c1ceba9e39189748e6289a810c4045b5feffd4950533081508009219.jpeg\"]}}\n"
     ]
    }
   ],
   "source": [
    "info(\"C7xyzlpiBemFnEOn\")"
   ]
  },
  {
   "cell_type": "code",
   "execution_count": 29,
   "metadata": {
    "collapsed": false
   },
   "outputs": [
    {
     "name": "stdout",
     "output_type": "stream",
     "text": [
      "{\"Status\":0,\"Message\":\"OK\",\"Result\":[{\"Score\":\"98.94\",\"AliasList\":[\"谷莠子\",\"莠\"],\"Genus\":\"狗尾草属\",\"InfoCode\":\"Ldky3VBXkBXT1gk1\",\"AliasName\":\"谷莠子、莠\",\"Family\":\"禾本科\",\"ImageUrl\":\"https://api.aiplants.cn/resource/1001/%E7%8B%97%E5%B0%BE%E8%8D%89/c3d933609d9fa0003f127872118fc133c642db82dd01470b24f48df7443a3c8c.jpeg\",\"LatinName\":\"Setaria viridis\",\"Name\":\"狗尾草\"},{\"Score\":\"1.04\",\"AliasList\":[\"法氏狗尾草\"],\"Genus\":\"狗尾草属\",\"InfoCode\":\"LTRjFvZfKKGC42gA\",\"AliasName\":\"法氏狗尾草\",\"Family\":\"禾本科\",\"ImageUrl\":\"https://api.aiplants.cn/resource/1001/%E5%A4%A7%E7%8B%97%E5%B0%BE%E8%8D%89/1406a6c794a43bee3c126f88f30b5a235c0607693fed604473a48f7a3abd9cb9.jpeg\",\"LatinName\":\"Setaria faberi\",\"Name\":\"大狗尾草\"},{\"Score\":\"0.01\",\"AliasList\":[],\"Genus\":\"狗尾草属\",\"InfoCode\":\"lxBYUeDkinFIebDN\",\"AliasName\":\"\",\"Family\":\"禾本科\",\"ImageUrl\":\"https://api.aiplants.cn/resource/1001/%E9%87%91%E8%89%B2%E7%8B%97%E5%B0%BE%E8%8D%89/24e68ef36728343070653b277cccdcd1428f4d27eb34b58f2e2bb62d9b31c419.jpeg\",\"LatinName\":\"Setaria pumila\",\"Name\":\"金色狗尾草\"},{\"Score\":\"0.00\",\"AliasList\":[\"稗子\",\"扁扁草\"],\"Genus\":\"稗属\",\"InfoCode\":\"ToBzQUADVpEZb95Q\",\"AliasName\":\"稗子、扁扁草\",\"Family\":\"禾本科\",\"ImageUrl\":\"https://api.aiplants.cn/resource/1001/%E7%A8%97/d0ded05a334b70cd2132b77a116c4396a691fd3aac8569f1630a3046e6b8e9a5.jpeg\",\"LatinName\":\"Echinochloa crusgalli\",\"Name\":\"稗\"},{\"Score\":\"0.00\",\"AliasList\":[],\"Genus\":\"苦苣菜属\",\"InfoCode\":\"I9OlD8DdQEt7rbCZ\",\"AliasName\":\"\",\"Family\":\"菊科\",\"ImageUrl\":\"https://api.aiplants.cn/resource/1001/%E8%8B%A3%E8%8D%AC%E8%8F%9C/9e988c7e577a1ba1c58631ff3503858926e2ece0ce662d950872c3770c9989f6.jpeg\",\"LatinName\":\"Sonchus wightianus\",\"Name\":\"苣荬菜\"}]}\n"
     ]
    }
   ],
   "source": [
    "weed('E:/Users/诗雅/Desktop/狗尾巴草.jpg')"
   ]
  },
  {
   "cell_type": "code",
   "execution_count": null,
   "metadata": {
    "collapsed": true
   },
   "outputs": [],
   "source": []
  }
 ],
 "metadata": {
  "kernelspec": {
   "display_name": "Python 3",
   "language": "python",
   "name": "python3"
  },
  "language_info": {
   "codemirror_mode": {
    "name": "ipython",
    "version": 3
   },
   "file_extension": ".py",
   "mimetype": "text/x-python",
   "name": "python",
   "nbconvert_exporter": "python",
   "pygments_lexer": "ipython3",
   "version": "3.6.0"
  }
 },
 "nbformat": 4,
 "nbformat_minor": 2
}
